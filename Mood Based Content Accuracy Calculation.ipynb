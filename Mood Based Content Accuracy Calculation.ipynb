{
 "cells": [
  {
   "cell_type": "markdown",
   "metadata": {},
   "source": [
    "# Mood Based Content Prediction\n",
    "\n",
    "This is only single output prediction accuracy calculation (without association rule mining) which means the dataset which contains multiple choices for each memes, games and movies are not considered here at this moment. It is further calculated by using association rule mining."
   ]
  },
  {
   "cell_type": "markdown",
   "metadata": {},
   "source": [
    "### Importing Libraries"
   ]
  },
  {
   "cell_type": "code",
   "execution_count": 23,
   "metadata": {},
   "outputs": [],
   "source": [
    "import pandas as pd\n",
    "import numpy as np\n",
    "from sklearn.tree import DecisionTreeClassifier\n",
    "from sklearn.model_selection import train_test_split\n",
    "from sklearn import metrics\n",
    "from sklearn.naive_bayes import GaussianNB\n",
    "from sklearn.svm import SVC\n",
    "from sklearn.linear_model import LogisticRegression  \n",
    "import warnings\n",
    "warnings.filterwarnings(action='ignore')"
   ]
  },
  {
   "cell_type": "markdown",
   "metadata": {},
   "source": [
    "### Dataset Preprocessing\n",
    "\n",
    "The dataset contains multiple entries such as for one tuple it contains preferred movies - 'Action;Thriller;Horror'. The dataset is preprocessed to contain only one entry from it. The other entries are stored in a list and is later used for association rule mining."
   ]
  },
  {
   "cell_type": "code",
   "execution_count": 24,
   "metadata": {},
   "outputs": [],
   "source": [
    "def preprocessing(dataframe):\n",
    "    memes=[]\n",
    "    games=[]\n",
    "    movies=[]\n",
    "    for i in range(len(dataframe)):\n",
    "        temp=[]\n",
    "        temp=dataframe.values[i,7].split(\";\")\n",
    "        for j in range(len(temp)):\n",
    "            temp[j]=temp[j].strip()\n",
    "        memes.append(temp)\n",
    "    for i in range(len(dataframe)):\n",
    "        temp=[]\n",
    "        temp=dataframe.values[i,8].split(\";\")\n",
    "        for j in range(len(temp)):\n",
    "            temp[j]=temp[j].strip()\n",
    "        games.append(temp)\n",
    "    for i in range(len(dataframe)):\n",
    "        temp=[]\n",
    "        temp=dataframe.values[i,9].split(\";\")\n",
    "        for j in range(len(temp)):\n",
    "            temp[j]=temp[j].strip()\n",
    "        movies.append(temp)\n",
    "    return dataframe,memes,games,movies"
   ]
  },
  {
   "cell_type": "markdown",
   "metadata": {},
   "source": [
    "### Changes in dataset\n",
    "\n",
    "The preprocessing step just stored multiple entries. This step removes it from the dataframe"
   ]
  },
  {
   "cell_type": "code",
   "execution_count": 25,
   "metadata": {},
   "outputs": [],
   "source": [
    "def new_dataset(dataframe,memes,games,movies):\n",
    "    memecol=[]\n",
    "    gamecol=[]\n",
    "    moviecol=[]\n",
    "    for i in range(len(memes)):\n",
    "        memecol.append(memes[i][0])\n",
    "        gamecol.append(games[i][0])\n",
    "        moviecol.append(movies[i][0])\n",
    "    memearr=np.array(memecol)\n",
    "    gamearr=np.array(gamecol)\n",
    "    moviearr=np.array(moviecol)\n",
    "    newdf=dataframe\n",
    "    newdf['Memes']=memearr\n",
    "    newdf['Games']=gamearr\n",
    "    newdf['Movies/Series']=moviearr\n",
    "    return newdf"
   ]
  },
  {
   "cell_type": "markdown",
   "metadata": {},
   "source": [
    "### Getting the dataset ready for operations\n",
    "\n",
    "The dataset is fetched from the URL and is split into 75% training and 25% testing data"
   ]
  },
  {
   "cell_type": "code",
   "execution_count": 26,
   "metadata": {},
   "outputs": [],
   "source": [
    "moods=['1. Anxiety','2. Anger','3. Hopelessness','4. Perpetual/Long-term Boredom / Tiredness','5. Unreasonable/Unexplained Sadness']\n",
    "tmoods=['Timestamp','1. Anxiety','2. Anger','3. Hopelessness','4. Perpetual/Long-term Boredom / Tiredness','5. Unreasonable/Unexplained Sadness']\n",
    "dataframe=pd.read_csv('https://raw.githubusercontent.com/mayankkakad/datasets/main/mbcdataset.csv')\n",
    "dataframe,memes,games,movies=preprocessing(dataframe)\n",
    "newdf=new_dataset(dataframe,memes,games,movies)\n",
    "X=newdf[tmoods].values\n",
    "Y_meme=newdf['Memes'].values\n",
    "Y_game=newdf['Games'].values\n",
    "Y_movie=newdf['Movies/Series'].values\n",
    "X_tmemetrain,X_tmemetest,Y_memetrain,Y_memetest=train_test_split(X,Y_meme,test_size=0.25)\n",
    "X_tgametrain,X_tgametest,Y_gametrain,Y_gametest=train_test_split(X,Y_game,test_size=0.25)\n",
    "X_tmovietrain,X_tmovietest,Y_movietrain,Y_movietest=train_test_split(X,Y_movie,test_size=0.25)\n",
    "X_memetrain=[]\n",
    "for tmx in X_tmemetrain:\n",
    "    tmx=np.delete(tmx,[0])\n",
    "    X_memetrain.append(tmx)\n",
    "X_memetrain=np.array(X_memetrain)\n",
    "X_memetrain=X_memetrain.astype('int64')\n",
    "X_gametrain=[]\n",
    "for tgx in X_tgametrain:\n",
    "    tgx=np.delete(tgx,[0])\n",
    "    X_gametrain.append(tgx)\n",
    "X_gametrain=np.array(X_gametrain)\n",
    "X_gametrain=X_gametrain.astype('int64')\n",
    "X_movietrain=[]\n",
    "for tmox in X_tmovietrain:\n",
    "    tmox=np.delete(tmox,[0])\n",
    "    X_movietrain.append(tmox)\n",
    "X_movietrain=np.array(X_movietrain)\n",
    "X_movietrain=X_movietrain.astype('int64')\n",
    "X_memetest=[]\n",
    "for tmx in X_tmemetest:\n",
    "    tmx=np.delete(tmx,[0])\n",
    "    X_memetest.append(tmx)\n",
    "X_memetest=np.array(X_memetest)\n",
    "X_memetest=X_memetest.astype('int64')\n",
    "X_gametest=[]\n",
    "for tgx in X_tgametest:\n",
    "    tgx=np.delete(tgx,[0])\n",
    "    X_gametest.append(tgx)\n",
    "X_gametest=np.array(X_gametest)\n",
    "X_gametest=X_gametest.astype('int64')\n",
    "X_movietest=[]\n",
    "for tmox in X_tmovietest:\n",
    "    tmox=np.delete(tmox,[0])\n",
    "    X_movietest.append(tmox)\n",
    "X_movietest=np.array(X_movietest)\n",
    "X_movietest=X_movietest.astype('int64')"
   ]
  },
  {
   "cell_type": "markdown",
   "metadata": {},
   "source": [
    "## Decision Tree Classifier Accuracy"
   ]
  },
  {
   "cell_type": "code",
   "execution_count": 27,
   "metadata": {},
   "outputs": [
    {
     "name": "stdout",
     "output_type": "stream",
     "text": [
      "Decision Tree Accuracy: -\n",
      "\n",
      "Meme prediction: 0.22448979591836735\n",
      "Game prediction: 0.30612244897959184\n",
      "Movie prediction: 0.46938775510204084\n"
     ]
    }
   ],
   "source": [
    "memeTree=DecisionTreeClassifier()\n",
    "gameTree=DecisionTreeClassifier()\n",
    "movieTree=DecisionTreeClassifier()\n",
    "memeTree.fit(X_memetrain,Y_memetrain)\n",
    "gameTree.fit(X_gametrain,Y_gametrain)\n",
    "movieTree.fit(X_movietrain,Y_movietrain)\n",
    "memePred=memeTree.predict(X_memetest)\n",
    "gamePred=gameTree.predict(X_gametest)\n",
    "moviePred=movieTree.predict(X_movietest)\n",
    "print('Decision Tree Accuracy: -\\n')\n",
    "print('Meme prediction:',metrics.accuracy_score(Y_memetest,memePred))\n",
    "print('Game prediction:',metrics.accuracy_score(Y_gametest,gamePred))\n",
    "print('Movie prediction:',metrics.accuracy_score(Y_movietest,moviePred))"
   ]
  },
  {
   "cell_type": "markdown",
   "metadata": {},
   "source": [
    "## Gaussian Naive Bayes Classifier Accuracy"
   ]
  },
  {
   "cell_type": "code",
   "execution_count": 28,
   "metadata": {},
   "outputs": [
    {
     "name": "stdout",
     "output_type": "stream",
     "text": [
      "Gaussian Naive Bayes Accuracy: -\n",
      "\n",
      "Meme prediction: 0.30612244897959184\n",
      "Game prediction: 0.30612244897959184\n",
      "Movie prediction: 0.22448979591836735\n"
     ]
    }
   ],
   "source": [
    "memeNB=GaussianNB()\n",
    "gameNB=GaussianNB()\n",
    "movieNB=GaussianNB()\n",
    "memeNB.fit(X_memetrain,Y_memetrain)\n",
    "gameNB.fit(X_gametrain,Y_gametrain)\n",
    "movieNB.fit(X_movietrain,Y_movietrain)\n",
    "memeNBPred=memeNB.predict(X_memetest)\n",
    "gameNBPred=gameNB.predict(X_gametest)\n",
    "movieNBPred=movieNB.predict(X_movietest)\n",
    "print('Gaussian Naive Bayes Accuracy: -\\n')\n",
    "print('Meme prediction:',metrics.accuracy_score(Y_memetest,memeNBPred))\n",
    "print('Game prediction:',metrics.accuracy_score(Y_gametest,gameNBPred))\n",
    "print('Movie prediction:',metrics.accuracy_score(Y_movietest,movieNBPred))"
   ]
  },
  {
   "cell_type": "markdown",
   "metadata": {},
   "source": [
    "## SVM Linear Kernel Classifier Accuracy"
   ]
  },
  {
   "cell_type": "code",
   "execution_count": 29,
   "metadata": {},
   "outputs": [
    {
     "name": "stdout",
     "output_type": "stream",
     "text": [
      "SVM Linear Kernel Accuracy: -\n",
      "\n",
      "Meme prediction: 0.3673469387755102\n",
      "Game prediction: 0.5102040816326531\n",
      "Movie prediction: 0.5102040816326531\n"
     ]
    }
   ],
   "source": [
    "memeSVM=SVC(kernel='linear',random_state=0)\n",
    "gameSVM=SVC(kernel='linear',random_state=0)\n",
    "movieSVM=SVC(kernel='linear',random_state=0)\n",
    "memeSVM.fit(X_memetrain,Y_memetrain)\n",
    "gameSVM.fit(X_gametrain,Y_gametrain)\n",
    "movieSVM.fit(X_movietrain,Y_movietrain)\n",
    "memeSVMPred=memeSVM.predict(X_memetest)\n",
    "gameSVMPred=gameSVM.predict(X_gametest)\n",
    "movieSVMPred=movieSVM.predict(X_movietest)\n",
    "print('SVM Linear Kernel Accuracy: -\\n')\n",
    "print('Meme prediction:',metrics.accuracy_score(Y_memetest,memeSVMPred))\n",
    "print('Game prediction:',metrics.accuracy_score(Y_gametest,gameSVMPred))\n",
    "print('Movie prediction:',metrics.accuracy_score(Y_movietest,movieSVMPred))"
   ]
  },
  {
   "cell_type": "markdown",
   "metadata": {},
   "source": [
    "## SVM Polynomial Kernel Classifier Accuracy"
   ]
  },
  {
   "cell_type": "code",
   "execution_count": 30,
   "metadata": {},
   "outputs": [
    {
     "name": "stdout",
     "output_type": "stream",
     "text": [
      "SVM Polynomial Kernel Accuracy: -\n",
      "\n",
      "Meme prediction: 0.2857142857142857\n",
      "Game prediction: 0.46938775510204084\n",
      "Movie prediction: 0.4489795918367347\n"
     ]
    }
   ],
   "source": [
    "memeSVMP=SVC(kernel='poly',random_state=0)\n",
    "gameSVMP=SVC(kernel='poly',random_state=0)\n",
    "movieSVMP=SVC(kernel='poly',random_state=0)\n",
    "memeSVMP.fit(X_memetrain,Y_memetrain)\n",
    "gameSVMP.fit(X_gametrain,Y_gametrain)\n",
    "movieSVMP.fit(X_movietrain,Y_movietrain)\n",
    "memeSVMPPred=memeSVMP.predict(X_memetest)\n",
    "gameSVMPPred=gameSVMP.predict(X_gametest)\n",
    "movieSVMPPred=movieSVMP.predict(X_movietest)\n",
    "print('SVM Polynomial Kernel Accuracy: -\\n')\n",
    "print('Meme prediction:',metrics.accuracy_score(Y_memetest,memeSVMPPred))\n",
    "print('Game prediction:',metrics.accuracy_score(Y_gametest,gameSVMPPred))\n",
    "print('Movie prediction:',metrics.accuracy_score(Y_movietest,movieSVMPPred))"
   ]
  },
  {
   "cell_type": "markdown",
   "metadata": {},
   "source": [
    "## Logistic Regression Classifier Accuracy"
   ]
  },
  {
   "cell_type": "code",
   "execution_count": 31,
   "metadata": {},
   "outputs": [
    {
     "name": "stdout",
     "output_type": "stream",
     "text": [
      "Logistic Regression Accuracy: -\n",
      "\n",
      "Meme prediction: 0.24489795918367346\n",
      "Game prediction: 0.40816326530612246\n",
      "Movie prediction: 0.40816326530612246\n"
     ]
    }
   ],
   "source": [
    "memeReg=LogisticRegression(random_state=0)\n",
    "gameReg=LogisticRegression(random_state=0)\n",
    "movieReg=LogisticRegression(random_state=0)\n",
    "memeReg.fit(X_memetrain,Y_memetrain)\n",
    "gameReg.fit(X_gametrain,Y_gametrain)\n",
    "movieReg.fit(X_movietrain,Y_movietrain)\n",
    "memeRegPred=memeReg.predict(X_memetest)\n",
    "gameRegPred=gameReg.predict(X_gametest)\n",
    "movieRegPred=movieReg.predict(X_movietest)\n",
    "print('Logistic Regression Accuracy: -\\n')\n",
    "print('Meme prediction:',metrics.accuracy_score(Y_memetest,memeRegPred))\n",
    "print('Game prediction:',metrics.accuracy_score(Y_gametest,gameRegPred))\n",
    "print('Movie prediction:',metrics.accuracy_score(Y_movietest,movieRegPred))"
   ]
  },
  {
   "cell_type": "markdown",
   "metadata": {},
   "source": [
    "## Accuracy Comparison and Algorithm selection\n",
    "\n",
    "The accuracy of all the used algorithms is compared and the best algorithm is chosen"
   ]
  },
  {
   "cell_type": "code",
   "execution_count": 32,
   "metadata": {},
   "outputs": [
    {
     "name": "stdout",
     "output_type": "stream",
     "text": [
      "Overall Accuracy:-\n",
      "\n",
      "Decision Tree: 33.33 %\n",
      "Gaussian Naive Bayes: 27.89 %\n",
      "SVM Linear Kernel: 46.26 %\n",
      "SVM Polynomial Kernel: 40.14 %\n",
      "Logistic Regression: 35.37 %\n"
     ]
    }
   ],
   "source": [
    "dt1=metrics.accuracy_score(Y_memetest,memePred)\n",
    "dt2=metrics.accuracy_score(Y_gametest,gamePred)\n",
    "dt3=metrics.accuracy_score(Y_movietest,moviePred)\n",
    "dt=(dt1+dt2+dt3)/0.03\n",
    "nb1=metrics.accuracy_score(Y_memetest,memeNBPred)\n",
    "nb2=metrics.accuracy_score(Y_gametest,gameNBPred)\n",
    "nb3=metrics.accuracy_score(Y_movietest,movieNBPred)\n",
    "nb=(nb1+nb2+nb3)/0.03\n",
    "svml1=metrics.accuracy_score(Y_memetest,memeSVMPred)\n",
    "svml2=metrics.accuracy_score(Y_gametest,gameSVMPred)\n",
    "svml3=metrics.accuracy_score(Y_movietest,movieSVMPred)\n",
    "svml=(svml1+svml2+svml3)/0.03\n",
    "svmp1=metrics.accuracy_score(Y_memetest,memeSVMPPred)\n",
    "svmp2=metrics.accuracy_score(Y_gametest,gameSVMPPred)\n",
    "svmp3=metrics.accuracy_score(Y_movietest,movieSVMPPred)\n",
    "svmp=(svmp1+svmp2+svmp3)/0.03\n",
    "lr1=metrics.accuracy_score(Y_memetest,memeRegPred)\n",
    "lr2=metrics.accuracy_score(Y_gametest,gameRegPred)\n",
    "lr3=metrics.accuracy_score(Y_movietest,movieRegPred)\n",
    "lr=(lr1+lr2+lr3)/0.03\n",
    "print('Overall Accuracy:-\\n')\n",
    "print('Decision Tree: %.2f'%dt,'%')\n",
    "print('Gaussian Naive Bayes: %.2f'%nb,'%')\n",
    "print('SVM Linear Kernel: %.2f'%svml,'%')\n",
    "print('SVM Polynomial Kernel: %.2f'%svmp,'%')\n",
    "print('Logistic Regression: %.2f'%lr,'%')"
   ]
  },
  {
   "cell_type": "markdown",
   "metadata": {},
   "source": [
    "## SVM Linear Kernel has the best accuracy"
   ]
  },
  {
   "cell_type": "markdown",
   "metadata": {},
   "source": [
    "# Accuracy after Association rule mining (Apriori)"
   ]
  },
  {
   "cell_type": "markdown",
   "metadata": {},
   "source": [
    "### Importing Libraries"
   ]
  },
  {
   "cell_type": "code",
   "execution_count": 33,
   "metadata": {},
   "outputs": [],
   "source": [
    "from apyori import apriori"
   ]
  },
  {
   "cell_type": "markdown",
   "metadata": {},
   "source": [
    "### Apriori Algorithm implementation"
   ]
  },
  {
   "cell_type": "code",
   "execution_count": 34,
   "metadata": {},
   "outputs": [],
   "source": [
    "def runApriori(memedict,gamedict,moviedict,memes,games,movies):\n",
    "    minsup=0.12\n",
    "    mincon=0.7\n",
    "    minlift=2\n",
    "    assoc_rules_memes=list(apriori(memes,min_support=minsup,min_confidence=mincon,min_lift=minlift))\n",
    "    assoc_rules_games=list(apriori(games,min_support=minsup,min_confidence=mincon,min_lift=minlift))\n",
    "    assoc_rules_movies=list(apriori(movies,min_support=minsup,min_confidence=mincon,min_lift=minlift))\n",
    "    for i in assoc_rules_memes:\n",
    "        sets=list(i[0])\n",
    "        temp=list(memedict[str(sets[0])])\n",
    "        temp.extend(sets[1:])\n",
    "        temp=list(set(temp))\n",
    "        memedict[sets[0]]=temp\n",
    "    for i in assoc_rules_games:\n",
    "        sets=list(i[0])\n",
    "        temp=list(gamedict[str(sets[0])])\n",
    "        temp.extend(sets[1:])\n",
    "        temp=list(set(temp))\n",
    "        gamedict[sets[0]]=temp\n",
    "    for i in assoc_rules_movies:\n",
    "        sets=list(i[0])\n",
    "        temp=list(moviedict[str(sets[0])])\n",
    "        temp.extend(sets[1:])\n",
    "        temp=list(set(temp))\n",
    "        moviedict[sets[0]]=temp\n",
    "    return memedict,gamedict,moviedict"
   ]
  },
  {
   "cell_type": "markdown",
   "metadata": {},
   "source": [
    "### Getting association rules in a dictionary"
   ]
  },
  {
   "cell_type": "code",
   "execution_count": 35,
   "metadata": {},
   "outputs": [],
   "source": [
    "memedict={'Doggo':[],'Bollywood':[],'Food':[],'Sports':[],'Travel':[],'Political':[],'Dark':[]}\n",
    "gamedict={'Action':[],'Multiplayer':[],'Arcade':[],'Sports':[],'Racing':[],'Puzzle':[],'Adventure':[]}\n",
    "moviedict={'Drama':[],'Comedy':[],'Horror':[],'Action':[],'Romance':[],'Science fiction':[],'Animation':[],'Thriller':[],'Crime':[],'Biography':[]}\n",
    "memedict,gamedict,moviedict=runApriori(memedict,gamedict,moviedict,memes,games,movies)"
   ]
  },
  {
   "cell_type": "markdown",
   "metadata": {},
   "source": [
    "### Converting Predictions from SVM Classifier into list from numpy array"
   ]
  },
  {
   "cell_type": "code",
   "execution_count": 36,
   "metadata": {},
   "outputs": [],
   "source": [
    "memeDecPredList=list(memePred)\n",
    "gameDecPredList=list(gamePred)\n",
    "movieDecPredList=list(moviePred)\n",
    "memeNBPredList=list(memeNBPred)\n",
    "gameNBPredList=list(gameNBPred)\n",
    "movieNBPredList=list(movieNBPred)\n",
    "memeSVMPredList=list(memeSVMPred)\n",
    "gameSVMPredList=list(gameSVMPred)\n",
    "movieSVMPredList=list(movieSVMPred)\n",
    "memeSVMPPredList=list(memeSVMPPred)\n",
    "gameSVMPPredList=list(gameSVMPPred)\n",
    "movieSVMPPredList=list(movieSVMPPred)\n",
    "memeLRPredList=list(memeRegPred)\n",
    "gameLRPredList=list(gameRegPred)\n",
    "movieLRPredList=list(movieRegPred)"
   ]
  },
  {
   "cell_type": "markdown",
   "metadata": {},
   "source": [
    "## Getting final Predicted lists combining classification and association rule mining"
   ]
  },
  {
   "cell_type": "code",
   "execution_count": 37,
   "metadata": {},
   "outputs": [],
   "source": [
    "finalDecMemePred=[]\n",
    "finalDecGamePred=[]\n",
    "finalDecMoviePred=[]\n",
    "for m in memeDecPredList:\n",
    "    temp=list(memedict[m])\n",
    "    temp.append(m)\n",
    "    finalDecMemePred.append(temp)\n",
    "for g in gameDecPredList:\n",
    "    temp=list(gamedict[g])\n",
    "    temp.append(g)\n",
    "    finalDecGamePred.append(temp)\n",
    "for mo in movieDecPredList:\n",
    "    temp=list(moviedict[mo])\n",
    "    temp.append(mo)\n",
    "    finalDecMoviePred.append(temp)\n",
    "finalNBMemePred=[]\n",
    "finalNBGamePred=[]\n",
    "finalNBMoviePred=[]\n",
    "for m in memeNBPredList:\n",
    "    temp=list(memedict[m])\n",
    "    temp.append(m)\n",
    "    finalNBMemePred.append(temp)\n",
    "for g in gameNBPredList:\n",
    "    temp=list(gamedict[g])\n",
    "    temp.append(g)\n",
    "    finalNBGamePred.append(temp)\n",
    "for mo in movieNBPredList:\n",
    "    temp=list(moviedict[mo])\n",
    "    temp.append(mo)\n",
    "    finalNBMoviePred.append(temp)\n",
    "finalSVMMemePred=[]\n",
    "finalSVMGamePred=[]\n",
    "finalSVMMoviePred=[]\n",
    "for m in memeSVMPredList:\n",
    "    temp=list(memedict[m])\n",
    "    temp.append(m)\n",
    "    finalSVMMemePred.append(temp)\n",
    "for g in gameSVMPredList:\n",
    "    temp=list(gamedict[g])\n",
    "    temp.append(g)\n",
    "    finalSVMGamePred.append(temp)\n",
    "for mo in movieSVMPredList:\n",
    "    temp=list(moviedict[mo])\n",
    "    temp.append(mo)\n",
    "    finalSVMMoviePred.append(temp)\n",
    "finalSVMPMemePred=[]\n",
    "finalSVMPGamePred=[]\n",
    "finalSVMPMoviePred=[]\n",
    "for m in memeSVMPPredList:\n",
    "    temp=list(memedict[m])\n",
    "    temp.append(m)\n",
    "    finalSVMPMemePred.append(temp)\n",
    "for g in gameSVMPPredList:\n",
    "    temp=list(gamedict[g])\n",
    "    temp.append(g)\n",
    "    finalSVMPGamePred.append(temp)\n",
    "for mo in movieSVMPPredList:\n",
    "    temp=list(moviedict[mo])\n",
    "    temp.append(mo)\n",
    "    finalSVMPMoviePred.append(temp)\n",
    "finalLRMemePred=[]\n",
    "finalLRGamePred=[]\n",
    "finalLRMoviePred=[]\n",
    "for m in memeLRPredList:\n",
    "    temp=list(memedict[m])\n",
    "    temp.append(m)\n",
    "    finalLRMemePred.append(temp)\n",
    "for g in gameLRPredList:\n",
    "    temp=list(gamedict[g])\n",
    "    temp.append(g)\n",
    "    finalLRGamePred.append(temp)\n",
    "for mo in movieLRPredList:\n",
    "    temp=list(moviedict[mo])\n",
    "    temp.append(mo)\n",
    "    finalLRMoviePred.append(temp)"
   ]
  },
  {
   "cell_type": "markdown",
   "metadata": {},
   "source": [
    "## Getting actual values"
   ]
  },
  {
   "cell_type": "code",
   "execution_count": 38,
   "metadata": {},
   "outputs": [],
   "source": [
    "df=pd.read_csv('https://raw.githubusercontent.com/mayankkakad/datasets/main/mbcdataset.csv')\n",
    "actualMemes=[]\n",
    "actualGames=[]\n",
    "actualMovies=[]\n",
    "for tmx in X_tmemetest:\n",
    "    tempvar=list(df.loc[(df['Timestamp']==tmx[0])&(df['1. Anxiety']==tmx[1])&(df['2. Anger']==tmx[2])&(df['3. Hopelessness']==tmx[3])&(df['4. Perpetual/Long-term Boredom / Tiredness']==tmx[4])&(df['5. Unreasonable/Unexplained Sadness']==tmx[5])]['Memes'])\n",
    "    tempvar=tempvar[0].split(';')\n",
    "    actualMemes.append(tempvar)\n",
    "for tgx in X_tgametest:\n",
    "    tempvar=list(df.loc[(df['Timestamp']==tgx[0])&(df['1. Anxiety']==tgx[1])&(df['2. Anger']==tgx[2])&(df['3. Hopelessness']==tgx[3])&(df['4. Perpetual/Long-term Boredom / Tiredness']==tgx[4])&(df['5. Unreasonable/Unexplained Sadness']==tgx[5])]['Games'])\n",
    "    tempvar=tempvar[0].split(';')\n",
    "    actualGames.append(tempvar)\n",
    "for tmox in X_tmovietest:\n",
    "    tempvar=list(df.loc[(df['Timestamp']==tmox[0])&(df['1. Anxiety']==tmox[1])&(df['2. Anger']==tmox[2])&(df['3. Hopelessness']==tmox[3])&(df['4. Perpetual/Long-term Boredom / Tiredness']==tmox[4])&(df['5. Unreasonable/Unexplained Sadness']==tmox[5])]['Movies/Series'])\n",
    "    tempvar=tempvar[0].split(';')\n",
    "    actualMovies.append(tempvar)"
   ]
  },
  {
   "cell_type": "markdown",
   "metadata": {},
   "source": [
    "# Calculating accuracy"
   ]
  },
  {
   "cell_type": "markdown",
   "metadata": {},
   "source": [
    "## Decision tree + Apriori"
   ]
  },
  {
   "cell_type": "code",
   "execution_count": 39,
   "metadata": {},
   "outputs": [
    {
     "name": "stdout",
     "output_type": "stream",
     "text": [
      "Meme prediction accuracy: 67.35 %\n",
      "Game prediction accuracy: 69.39 %\n",
      "Movie prediction accuracy: 93.88 %\n"
     ]
    }
   ],
   "source": [
    "dec_meme_points=0\n",
    "dectot_meme_points=0\n",
    "for i in range(len(actualMemes)):\n",
    "    actual=actualMemes[i]\n",
    "    predicted=finalDecMemePred[i]\n",
    "    dectot_meme_points=dectot_meme_points+1\n",
    "    for j in actual:\n",
    "        if j in predicted:\n",
    "            dec_meme_points=dec_meme_points+1\n",
    "            break\n",
    "dec_meme_accuracy=(dec_meme_points/dectot_meme_points)*100\n",
    "dec_game_points=0\n",
    "dectot_game_points=0\n",
    "for i in range(len(actualGames)):\n",
    "    actual=actualGames[i]\n",
    "    predicted=finalDecGamePred[i]\n",
    "    dectot_game_points=dectot_game_points+1\n",
    "    for j in actual:\n",
    "        if j in predicted:\n",
    "            dec_game_points=dec_game_points+1\n",
    "            break\n",
    "dec_game_accuracy=(dec_game_points/dectot_game_points)*100\n",
    "dec_movie_points=0\n",
    "dectot_movie_points=0\n",
    "for i in range(len(actualMovies)):\n",
    "    actual=actualMovies[i]\n",
    "    predicted=finalDecMoviePred[i]\n",
    "    dectot_movie_points=dectot_movie_points+1\n",
    "    for j in actual:\n",
    "        if j in predicted:\n",
    "            dec_movie_points=dec_movie_points+1\n",
    "            break\n",
    "dec_movie_accuracy=(dec_movie_points/dectot_movie_points)*100\n",
    "print('Meme prediction accuracy: %.2f'%dec_meme_accuracy,'%')\n",
    "print('Game prediction accuracy: %.2f'%dec_game_accuracy,'%')\n",
    "print('Movie prediction accuracy: %.2f'%dec_movie_accuracy,'%')"
   ]
  },
  {
   "cell_type": "markdown",
   "metadata": {},
   "source": [
    "## Naive Bayes + Apriori"
   ]
  },
  {
   "cell_type": "code",
   "execution_count": 40,
   "metadata": {
    "scrolled": true
   },
   "outputs": [
    {
     "name": "stdout",
     "output_type": "stream",
     "text": [
      "Meme prediction accuracy: 67.35 %\n",
      "Game prediction accuracy: 48.98 %\n",
      "Movie prediction accuracy: 85.71 %\n"
     ]
    }
   ],
   "source": [
    "nb_meme_points=0\n",
    "nbtot_meme_points=0\n",
    "for i in range(len(actualMemes)):\n",
    "    actual=actualMemes[i]\n",
    "    predicted=finalNBMemePred[i]\n",
    "    nbtot_meme_points=nbtot_meme_points+1\n",
    "    for j in actual:\n",
    "        if j in predicted:\n",
    "            nb_meme_points=nb_meme_points+1\n",
    "            break\n",
    "nb_meme_accuracy=(nb_meme_points/nbtot_meme_points)*100\n",
    "nb_game_points=0\n",
    "nbtot_game_points=0\n",
    "for i in range(len(actualGames)):\n",
    "    actual=actualGames[i]\n",
    "    predicted=finalNBGamePred[i]\n",
    "    nbtot_game_points=nbtot_game_points+1\n",
    "    for j in actual:\n",
    "        if j in predicted:\n",
    "            nb_game_points=nb_game_points+1\n",
    "            break\n",
    "nb_game_accuracy=(nb_game_points/nbtot_game_points)*100\n",
    "nb_movie_points=0\n",
    "nbtot_movie_points=0\n",
    "for i in range(len(actualMovies)):\n",
    "    actual=actualMovies[i]\n",
    "    predicted=finalNBMoviePred[i]\n",
    "    nbtot_movie_points=nbtot_movie_points+1\n",
    "    for j in actual:\n",
    "        if j in predicted:\n",
    "            nb_movie_points=nb_movie_points+1\n",
    "            break\n",
    "nb_movie_accuracy=(nb_movie_points/nbtot_movie_points)*100\n",
    "print('Meme prediction accuracy: %.2f'%nb_meme_accuracy,'%')\n",
    "print('Game prediction accuracy: %.2f'%nb_game_accuracy,'%')\n",
    "print('Movie prediction accuracy: %.2f'%nb_movie_accuracy,'%')"
   ]
  },
  {
   "cell_type": "markdown",
   "metadata": {},
   "source": [
    "## SVM Linear kernel + Apriori"
   ]
  },
  {
   "cell_type": "code",
   "execution_count": 41,
   "metadata": {},
   "outputs": [
    {
     "name": "stdout",
     "output_type": "stream",
     "text": [
      "Meme prediction accuracy: 36.73 %\n",
      "Game prediction accuracy: 51.02 %\n",
      "Movie prediction accuracy: 93.88 %\n"
     ]
    }
   ],
   "source": [
    "svm_meme_points=0\n",
    "svmtot_meme_points=0\n",
    "for i in range(len(actualMemes)):\n",
    "    actual=actualMemes[i]\n",
    "    predicted=finalSVMMemePred[i]\n",
    "    svmtot_meme_points=svmtot_meme_points+1\n",
    "    for j in actual:\n",
    "        if j in predicted:\n",
    "            svm_meme_points=svm_meme_points+1\n",
    "            break\n",
    "svm_meme_accuracy=(svm_meme_points/svmtot_meme_points)*100\n",
    "svm_game_points=0\n",
    "svmtot_game_points=0\n",
    "for i in range(len(actualGames)):\n",
    "    actual=actualGames[i]\n",
    "    predicted=finalSVMGamePred[i]\n",
    "    svmtot_game_points=svmtot_game_points+1\n",
    "    for j in actual:\n",
    "        if j in predicted:\n",
    "            svm_game_points=svm_game_points+1\n",
    "            break\n",
    "svm_game_accuracy=(svm_game_points/svmtot_game_points)*100\n",
    "svm_movie_points=0\n",
    "svmtot_movie_points=0\n",
    "for i in range(len(actualMovies)):\n",
    "    actual=actualMovies[i]\n",
    "    predicted=finalSVMMoviePred[i]\n",
    "    svmtot_movie_points=svmtot_movie_points+1\n",
    "    for j in actual:\n",
    "        if j in predicted:\n",
    "            svm_movie_points=svm_movie_points+1\n",
    "            break\n",
    "svm_movie_accuracy=(svm_movie_points/svmtot_movie_points)*100\n",
    "print('Meme prediction accuracy: %.2f'%svm_meme_accuracy,'%')\n",
    "print('Game prediction accuracy: %.2f'%svm_game_accuracy,'%')\n",
    "print('Movie prediction accuracy: %.2f'%svm_movie_accuracy,'%')"
   ]
  },
  {
   "cell_type": "markdown",
   "metadata": {},
   "source": [
    "## SVM Polynomial kernel + Apriori"
   ]
  },
  {
   "cell_type": "code",
   "execution_count": 42,
   "metadata": {},
   "outputs": [
    {
     "name": "stdout",
     "output_type": "stream",
     "text": [
      "Meme prediction accuracy: 83.67 %\n",
      "Game prediction accuracy: 53.06 %\n",
      "Movie prediction accuracy: 93.88 %\n"
     ]
    }
   ],
   "source": [
    "svmp_meme_points=0\n",
    "svmptot_meme_points=0\n",
    "for i in range(len(actualMemes)):\n",
    "    actual=actualMemes[i]\n",
    "    predicted=finalSVMPMemePred[i]\n",
    "    svmptot_meme_points=svmptot_meme_points+1\n",
    "    for j in actual:\n",
    "        if j in predicted:\n",
    "            svmp_meme_points=svmp_meme_points+1\n",
    "            break\n",
    "svmp_meme_accuracy=(svmp_meme_points/svmptot_meme_points)*100\n",
    "svmp_game_points=0\n",
    "svmptot_game_points=0\n",
    "for i in range(len(actualGames)):\n",
    "    actual=actualGames[i]\n",
    "    predicted=finalSVMPGamePred[i]\n",
    "    svmptot_game_points=svmptot_game_points+1\n",
    "    for j in actual:\n",
    "        if j in predicted:\n",
    "            svmp_game_points=svmp_game_points+1\n",
    "            break\n",
    "svmp_game_accuracy=(svmp_game_points/svmptot_game_points)*100\n",
    "svmp_movie_points=0\n",
    "svmptot_movie_points=0\n",
    "for i in range(len(actualMovies)):\n",
    "    actual=actualMovies[i]\n",
    "    predicted=finalSVMPMoviePred[i]\n",
    "    svmptot_movie_points=svmptot_movie_points+1\n",
    "    for j in actual:\n",
    "        if j in predicted:\n",
    "            svmp_movie_points=svmp_movie_points+1\n",
    "            break\n",
    "svmp_movie_accuracy=(svmp_movie_points/svmptot_movie_points)*100\n",
    "print('Meme prediction accuracy: %.2f'%svmp_meme_accuracy,'%')\n",
    "print('Game prediction accuracy: %.2f'%svmp_game_accuracy,'%')\n",
    "print('Movie prediction accuracy: %.2f'%svmp_movie_accuracy,'%')"
   ]
  },
  {
   "cell_type": "markdown",
   "metadata": {},
   "source": [
    "## Logistic Regression + Apriori"
   ]
  },
  {
   "cell_type": "code",
   "execution_count": 43,
   "metadata": {},
   "outputs": [
    {
     "name": "stdout",
     "output_type": "stream",
     "text": [
      "Meme prediction accuracy: 46.94 %\n",
      "Game prediction accuracy: 55.10 %\n",
      "Movie prediction accuracy: 93.88 %\n"
     ]
    }
   ],
   "source": [
    "lr_meme_points=0\n",
    "lrtot_meme_points=0\n",
    "for i in range(len(actualMemes)):\n",
    "    actual=actualMemes[i]\n",
    "    predicted=finalLRMemePred[i]\n",
    "    lrtot_meme_points=lrtot_meme_points+1\n",
    "    for j in actual:\n",
    "        if j in predicted:\n",
    "            lr_meme_points=lr_meme_points+1\n",
    "            break\n",
    "lr_meme_accuracy=(lr_meme_points/lrtot_meme_points)*100\n",
    "lr_game_points=0\n",
    "lrtot_game_points=0\n",
    "for i in range(len(actualGames)):\n",
    "    actual=actualGames[i]\n",
    "    predicted=finalLRGamePred[i]\n",
    "    lrtot_game_points=lrtot_game_points+1\n",
    "    for j in actual:\n",
    "        if j in predicted:\n",
    "            lr_game_points=lr_game_points+1\n",
    "            break\n",
    "lr_game_accuracy=(lr_game_points/lrtot_game_points)*100\n",
    "lr_movie_points=0\n",
    "lrtot_movie_points=0\n",
    "for i in range(len(actualMovies)):\n",
    "    actual=actualMovies[i]\n",
    "    predicted=finalLRMoviePred[i]\n",
    "    lrtot_movie_points=lrtot_movie_points+1\n",
    "    for j in actual:\n",
    "        if j in predicted:\n",
    "            lr_movie_points=lr_movie_points+1\n",
    "            break\n",
    "lr_movie_accuracy=(lr_movie_points/lrtot_movie_points)*100\n",
    "print('Meme prediction accuracy: %.2f'%lr_meme_accuracy,'%')\n",
    "print('Game prediction accuracy: %.2f'%lr_game_accuracy,'%')\n",
    "print('Movie prediction accuracy: %.2f'%lr_movie_accuracy,'%')"
   ]
  },
  {
   "cell_type": "markdown",
   "metadata": {},
   "source": [
    "# Comparing accuracy of all algorithms"
   ]
  },
  {
   "cell_type": "code",
   "execution_count": 44,
   "metadata": {},
   "outputs": [
    {
     "name": "stdout",
     "output_type": "stream",
     "text": [
      "Final Accuracies: -\n",
      "\n",
      "Decision tree + Apriori: 76.87 %\n",
      "Naive Bayes + Apriori: 67.35 %\n",
      "SVM linear kernel + Apriori: 60.54 %\n",
      "SVM polynomial kernel + Apriori: 76.87 %\n",
      "Logistic Regression + Apriori: 65.31 %\n"
     ]
    }
   ],
   "source": [
    "dec_given_points=dec_meme_points+dec_game_points+dec_movie_points\n",
    "dec_total_points=dectot_meme_points+dectot_game_points+dectot_movie_points\n",
    "dec_accuracy=(dec_given_points/dec_total_points)*100\n",
    "nb_given_points=nb_meme_points+nb_game_points+nb_movie_points\n",
    "nb_total_points=nbtot_meme_points+nbtot_game_points+nbtot_movie_points\n",
    "nb_accuracy=(nb_given_points/nb_total_points)*100\n",
    "svm_given_points=svm_meme_points+svm_game_points+svm_movie_points\n",
    "svm_total_points=svmtot_meme_points+svmtot_game_points+svmtot_movie_points\n",
    "svm_accuracy=(svm_given_points/svm_total_points)*100\n",
    "svmp_given_points=svmp_meme_points+svmp_game_points+svmp_movie_points\n",
    "svmp_total_points=svmptot_meme_points+svmptot_game_points+svmptot_movie_points\n",
    "svmp_accuracy=(svmp_given_points/svmp_total_points)*100\n",
    "lr_given_points=lr_meme_points+lr_game_points+lr_movie_points\n",
    "lr_total_points=lrtot_meme_points+lrtot_game_points+lrtot_movie_points\n",
    "lr_accuracy=(lr_given_points/lr_total_points)*100\n",
    "print('Final Accuracies: -\\n')\n",
    "print('Decision tree + Apriori: %.2f'%dec_accuracy,'%')\n",
    "print('Naive Bayes + Apriori: %.2f'%nb_accuracy,'%')\n",
    "print('SVM linear kernel + Apriori: %.2f'%svm_accuracy,'%')\n",
    "print('SVM polynomial kernel + Apriori: %.2f'%svmp_accuracy,'%')\n",
    "print('Logistic Regression + Apriori: %.2f'%lr_accuracy,'%')"
   ]
  },
  {
   "cell_type": "markdown",
   "metadata": {},
   "source": [
    "# Decision Tree + Apriori has the best accuracy"
   ]
  }
 ],
 "metadata": {
  "kernelspec": {
   "display_name": "Python 3",
   "language": "python",
   "name": "python3"
  },
  "language_info": {
   "codemirror_mode": {
    "name": "ipython",
    "version": 3
   },
   "file_extension": ".py",
   "mimetype": "text/x-python",
   "name": "python",
   "nbconvert_exporter": "python",
   "pygments_lexer": "ipython3",
   "version": "3.8.3"
  }
 },
 "nbformat": 4,
 "nbformat_minor": 4
}
